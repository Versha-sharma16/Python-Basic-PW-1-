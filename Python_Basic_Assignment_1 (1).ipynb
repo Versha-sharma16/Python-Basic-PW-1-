{
  "nbformat": 4,
  "nbformat_minor": 0,
  "metadata": {
    "colab": {
      "provenance": []
    },
    "kernelspec": {
      "name": "python3",
      "display_name": "Python 3"
    },
    "language_info": {
      "name": "python"
    }
  },
  "cells": [
    {
      "cell_type": "markdown",
      "source": [
        "# Python Basic Assignment\n"
      ],
      "metadata": {
        "id": "qtY2hMYsjfqc"
      }
    },
    {
      "cell_type": "markdown",
      "source": [
        "1 - What is Python, and why is it popular ?\n",
        "\n",
        "Ans - Python is a high-level, interpreted programming language developed by Guido van Rossum. It is known for its simple and readable syntax, which makes it easy to learn and use which makes it great for beginners. Python can be used for many things like websites, data analysis, automation, and more.\n",
        "\n",
        "Python is popular for several reasons:\n",
        "\n",
        "1. - Easy to Learn and Use:\n",
        "\n",
        "   Its syntax is simple and similar to English, making it beginner friendly.\n",
        "\n",
        "2. - Versatile in nature:\n",
        "\n",
        "   Python can be used in many areas like web development, data science, machine learning , and more.\n",
        "\n",
        "\n",
        "3. - Extensive Libraries and Frameworks:\n",
        "\n",
        " It provides many built-in libraries such as NumPy, Pandas,  Flask, and Django, which make development faster and easier.\n",
        "\n",
        "4. - Cross-platform Compatibility:\n",
        "\n",
        " Python code can run on different operating systems like Windows, macOS, and Linux without major changes.\n",
        "\n",
        "5. - Strong in Data and AI Fields:\n",
        "\n",
        " It is the most preferred language in data science, artificial intelligence, and machine learning due to its simplicity and powerful tools.\n",
        "\n",
        " Used by Top Companies:\n",
        "Big tech companies like Google,\n",
        "Amazon,  Netflix, Spotify, and Instagram use Python for various applications.\n",
        "\n",
        "\n",
        "\n",
        "---\n",
        "2 - What is an interpreter in Python ?\n",
        "\n",
        "Ans- An interpreter is a program that reads & executes code line by line. It converts the Python code into machine code, so computer can understand and run it.\n",
        "\n",
        " Lets understand with the help of example.\n",
        "\n",
        " --> print(\"Hello\")\n",
        "\n",
        " In this example, we opened the Python interpreter and typed a simple print statement. The interpreter will run this line and show the result immediately.\n",
        "\n",
        "\n",
        "\n",
        "---\n",
        "\n",
        "3 -  What are pre-defined keywords in Python ?\n",
        "\n",
        "Ans- Keywords in Python are reserved words that have special meanings and serve specific purposes in the language syntax. Python keywords cannot be used as the names of variables, functions, and classes or any other identifier.\n",
        "\n",
        "Here are the some examples of keywords in python --> if, else, while, for, def, class, return, import, True, False, None\n",
        "\n",
        "\n",
        "\n",
        "---\n",
        "4 - Can keywords be used as variable names ?\n",
        "\n",
        "Ans - No, keywords cannot be used as variable names in Python. They are reserved words that have special meaning in the language like -> if, else, while, for, etc. Using keyword as a variable name, will show a syntax error in python.\n",
        "\n",
        "\n",
        "---\n",
        "\n",
        "5 - What is mutability in Python ?\n",
        "\n",
        "Ans - Mutability in Python refers to the ability of an object to change its value after it is created.\n",
        "\n",
        "\n",
        "---\n",
        "\n",
        "6 - Why are lists mutable, but tuples are immutable ?\n",
        "\n",
        "Ans - In Python, lists are mutable because they are designed to allow changes. You can add, remove, or modify elements in a list after it is created.\n",
        "\n",
        "On the other hand, tuples are immutable it means once they are created, their elements cannot be changed. This is because tuples are meant to store fixed data that should not be modified.\n",
        "\n",
        "\n",
        "\n",
        "---\n",
        "\n",
        "7 - What is the difference between “==” and “is” operators in Python ?\n",
        "\n",
        "Ans - In Python, == and is operators are both used for comparison but they      serve different purposes. The == operator checks for equality of values which means it evaluates whether the values of two objects are the same or not. On the other hand, is operator checks for identity, meaning it determines whether two variables point to the same object in memory.\n",
        "\n",
        "If the values of both objects are the same, == returns True. If the values are different, it returns False.\n",
        "If both variables refer to the same object in memory, is returns True. If they refer to different objects, even if their values are the same, is returns False.\n",
        "\n",
        "a = [1, 2, 3]\n",
        "\n",
        "b = a\n",
        "\n",
        "    print(a is b)  \n",
        "-- # True, both refer to the same object\n",
        "\n",
        "x = [1, 2, 3]\n",
        "\n",
        "y = [1, 2, 3]\n",
        "\n",
        "    print(x is y)  \n",
        "-- #  False, different objects with same value\n",
        "\n",
        "\n",
        "\n",
        "---\n",
        "8 - What are logical operators in Python ?\n",
        "\n",
        "Ans - In Python, logical operators carry out logical operations and return Boolean values based on the result. We need to verify multiple conditions simultaneously or use logical operators by combining multiple conditions in some cases. There are three types of logical operators in Python:\n",
        "\n",
        "And Operator\n",
        "Or Operator\n",
        "Not Operator\n",
        "Let's understand all of these logical operators one by one in detail.\n",
        "\n",
        "# And Operator\n",
        "The And operator is used to verify where both conditions associated with it are True Simultaneously. It is represented as \"X and Y\".\n",
        "\n",
        "\n",
        "If Both are True, then the result is True.\n",
        "If one is True and the other is False, the result is False.\n",
        "If both are False, the result is False.\n",
        "\n",
        " Example:\n",
        "\n",
        "n = 7\n",
        "\n",
        "n > 5 and n < 10\n",
        "\n",
        "True\n",
        "\n",
        "n < 5 and n < 10\n",
        "\n",
        "False\n",
        "\n",
        "# Or Operator\n",
        "The Or Operator is used to verify that either of the associated conditions is true. It is represented as \"X or Y\".\n",
        "\n",
        "If Both are True, the result is True\n",
        "If One is True and the other is False, the result is True\n",
        "If both are False, the result is False\n",
        "\n",
        " Example:\n",
        "\n",
        "n = 10\n",
        "\n",
        "n < 5 or n < 15\n",
        "\n",
        "True\n",
        "\n",
        "n < 5 or n < 7\n",
        "\n",
        "False\n",
        "\n",
        "\n",
        "# Not Operator\n",
        "The Not Operator is associated with a single condition. It inverts the results, i.e., true is changed to false, and false is changed to true. It is represented as \"not X\".\n",
        "\n",
        "If the condition is True, the result is False\n",
        "If the condition is False, the result is True\n",
        "\n",
        "Example:\n",
        "\n",
        "not True\n",
        "\n",
        "False\n",
        "\n",
        "not False\n",
        "\n",
        "True\n",
        "\n",
        "\n",
        "---\n",
        "\n",
        "9 - What is type casting in Python ?\n",
        "\n",
        "Ans - Type Casting is the method to convert the Python variable datatype into a certain data type in order to perform the required operation by users. There are two types of Type Casting in Python:\n",
        "\n",
        "Python Implicit Type Conversion\n",
        "\n",
        "Python Explicit Type Conversion\n",
        "\n",
        "# Implicit Type Conversion in Python\n",
        "\n",
        "In this, method, Python converts the datatype into another datatype automatically. Users don't have to involve in this process.\n",
        "\n",
        "example:\n",
        "\n",
        "a = 7\n",
        "\n",
        "print(type(a))\n",
        "\n",
        "result will be  <class 'int'>\n",
        "\n",
        "# Explicit Type Conversion in Python\n",
        "\n",
        "In this method, Python needs user involvement to convert the variable data type into the required data type.  \n",
        "\n",
        "example:\n",
        "\n",
        "a = 5\n",
        "\n",
        "n = float(a)\n",
        "\n",
        "    print(n)\n",
        "\n",
        "    print(type(n))\n",
        "\n",
        "result will be 5.0 <class 'float'>\n",
        "\n",
        "\n",
        "\n",
        "---\n",
        "\n",
        "\n",
        "10 - What is the difference between implicit and explicit type casting ?\n",
        "\n",
        "Ans - Difference Between Implicit and Explicit Type Casting\n",
        "\n",
        "Type casting is the process of converting a value from one data type to another. Here's the difference between implicit and explicit type casting:\n",
        "\n",
        "# Implicit Type Casting\n",
        "\n",
        "- An implicit type conversion happens automatically when different types of values are used together in an expression. The computer automatically changes one type to another so the operation can be done smoothly.\n",
        "- An implicit type conversion is performed without programmer's intervention.\n",
        "\n",
        "Example:\n",
        "\n",
        "a = 5        # int\n",
        "\n",
        "b = 2.5      # float\n",
        "\n",
        "c = a + b    # int + float ➝ float\n",
        "\n",
        "    print(c)     # Output: 7.5\n",
        "\n",
        "    print(type(c))  # Output: <class 'float'>\n",
        "\n",
        "\n",
        "# Explicit Type Casting\n",
        "\n",
        "- In explicit casting, the programmer needs to explicitly specify the conversion using casting operators or functions provided by the language.\n",
        "- An explicit type conversion is specified explicitly by the programmer.\n",
        "\n",
        "Example:\n",
        "\n",
        "x = 10.75     # float\n",
        "\n",
        "y = int(x)    # Explicitly converting float to int\n",
        "\n",
        "    print(y)      # Output: 10\n",
        "\n",
        "    print(type(y))  # Output: <class 'int'>\n",
        "\n",
        "\n",
        "---\n",
        "11 - What is the purpose of conditional statements in Python ?\n",
        "\n",
        "Ans - The purpose of conditional statements in Python is to make decisions in a program. They allow the program to choose different actions based on whether a condition is true or false. This helps in controlling the flow of the program.\n",
        "\n",
        "For example, using if, elif, and else, you can tell the program to do one thing if a condition is true, and something else if it's false. Conditional statements make the program smart and able to handle different situations.\n",
        "\n",
        "age = 18\n",
        "\n",
        "if age >= 18:\n",
        "\n",
        "    print(\"You can vote\")\n",
        "\n",
        "else:\n",
        "\n",
        "    print(\"You cannot vote\")\n",
        "\n",
        "\n",
        "---\n",
        "\n",
        "12 - How does the elif statement work ?\n",
        "\n",
        "Ans - The elif statement in Python stands for \"else if\". It is used to check multiple conditions one by one after an if statement.\n",
        "\n",
        "When the program runs, it first checks the if condition.\n",
        "\n",
        "- If it is True, the code inside if runs, and the rest is skipped.\n",
        "\n",
        "- If the if condition is False, then it checks the elif condition.\n",
        "\n",
        "- If the elif condition is True, its block runs.\n",
        "\n",
        "You can use multiple elif statements to check many conditions.\n",
        "\n",
        "- If none of the if or elif conditions are true, the else block runs.\n",
        "\n",
        "\n",
        "---\n",
        "13 - What is the difference between for and while loops ?\n",
        "\n",
        "Ans - In python, loops are blocks of code that execute multiple times. Without loops, you would have to write things you want to execute repeatedly.\n",
        "\n",
        "In the while loop, it check the condition at the start of the loop. The code block will run until the condition is true, and if the condition is false, the loop gets ended. If the condition remains true, then it will be an infinite loop.\n",
        "\n",
        "The main difference between for and while loops in Python is how they repeat code and when they are used.\n",
        "\n",
        "- For Loop\n",
        "\n",
        "It Used when you know in advance how many times you want to repeat something.\n",
        "\n",
        "It loops over a sequence (like a list, string, or range).\n",
        "\n",
        "Best for fixed repetitions.\n",
        "\n",
        "for i in range(5):\n",
        "\n",
        "    print(i)\n",
        " This will print numbers from 0 to 4.\n",
        "\n",
        "- While Loop\n",
        "\n",
        "It Used when you don't know exactly how many times to repeat.\n",
        "\n",
        "It keeps running as long as a condition is true.\n",
        "\n",
        "Best when the number of repetitions depends on a condition.\n",
        "\n",
        "i = 0\n",
        "\n",
        "while i < 5:\n",
        "\n",
        "    print(i)\n",
        "\n",
        "    i += 1\n",
        "\n",
        "This also prints numbers from 0 to 4, but the condition controls how long it runs.\n",
        "\n",
        "\n",
        "\n",
        "---\n",
        "\n",
        "14 - Describe a scenario where a while loop is more suitable than a for loop ?\n",
        "\n",
        "Ans - A while loop is more suitable when you don't know in advance how many times the loop should run — when the loop should continue until a certain condition is met.\n",
        "\n",
        "Scenario Example: User Login System\n",
        "\n",
        "\n",
        "Let's say you are creating a simple game where the player has 3 lives. Each time the player makes a mistake, they lose 1 life. The game should continue running until all lives are lost. You don't know how many rounds the player will survive, so a while loop is perfect here.\n",
        "\n",
        "\n",
        "---\n",
        "\n",
        "\n",
        "\n",
        "\n",
        "\n",
        "\n",
        "\n",
        "\n",
        "\n",
        "\n",
        "\n",
        "\n",
        "\n",
        "\n",
        "\n",
        "\n",
        "\n",
        "\n",
        "\n",
        "\n",
        "\n",
        "\n",
        "\n",
        "\n",
        "\n",
        "\n",
        "\n",
        "\n",
        "\n",
        "\n",
        "\n",
        "\n",
        "\n",
        "\n",
        "\n",
        "\n",
        "\n",
        "\n",
        "\n",
        "\n",
        "\n",
        "\n",
        "\n"
      ],
      "metadata": {
        "id": "dzs7CmhTjnEo"
      }
    },
    {
      "cell_type": "code",
      "source": [
        "# 1. Write a Python program to print \"Hello, World! ?\n",
        "print(\"Hello, World!\")"
      ],
      "metadata": {
        "id": "1qQ6V5jyDNLM",
        "colab": {
          "base_uri": "https://localhost:8080/"
        },
        "outputId": "09a6f86a-ce7b-48f2-da5f-cb6df3f30307"
      },
      "execution_count": null,
      "outputs": [
        {
          "output_type": "stream",
          "name": "stdout",
          "text": [
            "Hello, World!\n"
          ]
        }
      ]
    },
    {
      "cell_type": "code",
      "source": [
        "# 2. Write a Python program that displays your name and age ?\n",
        "name = \"versha\"\n",
        "age = 20\n",
        "print(\"my age is\", name)\n",
        "print(\"my age is\", age)"
      ],
      "metadata": {
        "id": "7nyctyEYRzam",
        "colab": {
          "base_uri": "https://localhost:8080/"
        },
        "outputId": "1c146a7d-2ea6-4fe0-a553-cd11330b5f83"
      },
      "execution_count": 6,
      "outputs": [
        {
          "output_type": "stream",
          "name": "stdout",
          "text": [
            "my age is versha\n",
            "my age is 20\n"
          ]
        }
      ]
    },
    {
      "cell_type": "code",
      "source": [
        "# 3. Write code to print all the pre-defined keywords in Python using the keyword library?\n",
        "import keyword\n",
        "print(\"Python Keywords:\")\n",
        "print(keyword.kwlist)"
      ],
      "metadata": {
        "colab": {
          "base_uri": "https://localhost:8080/"
        },
        "id": "xu9rVAoJSPiq",
        "outputId": "9116dc3c-c4b6-482c-caab-7a1c77ddb6c4"
      },
      "execution_count": null,
      "outputs": [
        {
          "output_type": "stream",
          "name": "stdout",
          "text": [
            "Python Keywords:\n",
            "['False', 'None', 'True', 'and', 'as', 'assert', 'async', 'await', 'break', 'class', 'continue', 'def', 'del', 'elif', 'else', 'except', 'finally', 'for', 'from', 'global', 'if', 'import', 'in', 'is', 'lambda', 'nonlocal', 'not', 'or', 'pass', 'raise', 'return', 'try', 'while', 'with', 'yield']\n"
          ]
        }
      ]
    },
    {
      "cell_type": "code",
      "source": [
        "# 4. Write a program that checks if a given word is a Python keyword.?\n",
        "import keyword\n",
        "word = input(\"Enter a word: \")\n",
        "if keyword.iskeyword(word):\n",
        "    print(f\"{word} is a Python keyword.\")\n",
        "else:\n",
        "    print(f\"{word} is not a Python keyword.\")\n"
      ],
      "metadata": {
        "id": "dvzvKFqVSjyL",
        "colab": {
          "base_uri": "https://localhost:8080/"
        },
        "outputId": "5930b826-8b51-4a1e-f21c-bffb1be27a8d"
      },
      "execution_count": 2,
      "outputs": [
        {
          "output_type": "stream",
          "name": "stdout",
          "text": [
            "Enter a word: if\n",
            "if is a Python keyword.\n"
          ]
        }
      ]
    },
    {
      "cell_type": "code",
      "source": [
        "#5. Create a list and tuple in Python, and demonstrate how attempting to change an element works differently for each ?\n",
        "# Creating a list\n",
        "my_list = [10, 20, 30]\n",
        "print(\"Original list:\", my_list)\n",
        "\n",
        "# Change element in the list\n",
        "my_list[1] = 99\n",
        "print(\"Modified list:\", my_list)\n",
        "\n",
        "# Creating a tuple\n",
        "my_tuple = (10, 20, 30)\n",
        "print(\"Original tuple:\", my_tuple)\n",
        "\n",
        "# Try to change an element in the tuple\n",
        "my_tuple[1] = 99\n"
      ],
      "metadata": {
        "id": "kr_TAdh5TPPY",
        "colab": {
          "base_uri": "https://localhost:8080/",
          "height": 228
        },
        "outputId": "b8a13282-2472-45a8-b19d-04f9afa37fae"
      },
      "execution_count": 3,
      "outputs": [
        {
          "output_type": "stream",
          "name": "stdout",
          "text": [
            "Original list: [10, 20, 30]\n",
            "Modified list: [10, 99, 30]\n",
            "Original tuple: (10, 20, 30)\n"
          ]
        },
        {
          "output_type": "error",
          "ename": "TypeError",
          "evalue": "'tuple' object does not support item assignment",
          "traceback": [
            "\u001b[0;31m---------------------------------------------------------------------------\u001b[0m",
            "\u001b[0;31mTypeError\u001b[0m                                 Traceback (most recent call last)",
            "\u001b[0;32m/tmp/ipython-input-1172038846.py\u001b[0m in \u001b[0;36m<cell line: 0>\u001b[0;34m()\u001b[0m\n\u001b[1;32m     13\u001b[0m \u001b[0;34m\u001b[0m\u001b[0m\n\u001b[1;32m     14\u001b[0m \u001b[0;31m# Try to change an element in the tuple\u001b[0m\u001b[0;34m\u001b[0m\u001b[0;34m\u001b[0m\u001b[0m\n\u001b[0;32m---> 15\u001b[0;31m \u001b[0mmy_tuple\u001b[0m\u001b[0;34m[\u001b[0m\u001b[0;36m1\u001b[0m\u001b[0;34m]\u001b[0m \u001b[0;34m=\u001b[0m \u001b[0;36m99\u001b[0m\u001b[0;34m\u001b[0m\u001b[0;34m\u001b[0m\u001b[0m\n\u001b[0m",
            "\u001b[0;31mTypeError\u001b[0m: 'tuple' object does not support item assignment"
          ]
        }
      ]
    },
    {
      "cell_type": "code",
      "source": [
        "# 6. Write a function to demonstrate the behavior of mutable and immutable arguments.?\n",
        "def change(a, b):\n",
        "    a = a + 1\n",
        "    b.append(4)\n",
        "\n",
        "x = 10\n",
        "y = [1, 2, 3]\n",
        "\n",
        "change(x, y)\n",
        "\n",
        "print(\"x:\", x)\n",
        "print(\"y:\", y)\n",
        "\n"
      ],
      "metadata": {
        "id": "N5lZz-_dcqbz",
        "colab": {
          "base_uri": "https://localhost:8080/"
        },
        "outputId": "670436fb-24b2-465f-9433-e6c4825c28a1"
      },
      "execution_count": 4,
      "outputs": [
        {
          "output_type": "stream",
          "name": "stdout",
          "text": [
            "x: 10\n",
            "y: [1, 2, 3, 4]\n"
          ]
        }
      ]
    },
    {
      "cell_type": "code",
      "source": [
        "#7. Write a program that performs basic arithmetic operations on two user-input numbers.?\n",
        "a = int(input(\"Enter first number: \"))\n",
        "b = int(input(\"Enter second number: \"))\n",
        "\n",
        "print(\"Addition:\", a + b)\n",
        "print(\"Subtraction:\", a - b)\n",
        "print(\"Multiplication:\", a * b)\n",
        "print(\"Division:\", a / b)\n"
      ],
      "metadata": {
        "id": "hXW3uxVCeNzw",
        "colab": {
          "base_uri": "https://localhost:8080/"
        },
        "outputId": "5a3354c9-991e-4bcd-fbc5-cbc9c4233960"
      },
      "execution_count": 5,
      "outputs": [
        {
          "output_type": "stream",
          "name": "stdout",
          "text": [
            "Enter first number: 8\n",
            "Enter second number: 14\n",
            "Addition: 22\n",
            "Subtraction: -6\n",
            "Multiplication: 112\n",
            "Division: 0.5714285714285714\n"
          ]
        }
      ]
    },
    {
      "cell_type": "code",
      "source": [
        "#8. Write a program to demonstrate the use of logical operators. ?\n",
        "a = True\n",
        "b = False\n",
        "\n",
        "print(\"a and b:\", a and b)\n",
        "print(\"a or b:\", a or b)\n",
        "print(\"not a:\", not a)\n"
      ],
      "metadata": {
        "id": "GpJVgmNJkyfm",
        "colab": {
          "base_uri": "https://localhost:8080/"
        },
        "outputId": "bdd236e7-6dc4-4946-f2ef-bfea68e9de3b"
      },
      "execution_count": null,
      "outputs": [
        {
          "output_type": "stream",
          "name": "stdout",
          "text": [
            "a and b: False\n",
            "a or b: True\n",
            "not a: False\n"
          ]
        }
      ]
    },
    {
      "cell_type": "code",
      "source": [
        "#9. Write a Python program to convert user input from string to integer, float, and boolean types.?\n",
        "x = input(\"Enter a value: \")\n",
        "\n",
        "print(\"Integer:\", int(x))\n",
        "print(\"Float:\", float(x))\n",
        "print(\"Boolean:\", bool(x))\n"
      ],
      "metadata": {
        "id": "AutG50KZmsGP",
        "colab": {
          "base_uri": "https://localhost:8080/"
        },
        "outputId": "51a184b2-8d17-49a2-9ca1-3a438bd31dfb"
      },
      "execution_count": null,
      "outputs": [
        {
          "output_type": "stream",
          "name": "stdout",
          "text": [
            "Enter a value: 9\n",
            "Integer: 9\n",
            "Float: 9.0\n",
            "Boolean: True\n"
          ]
        }
      ]
    },
    {
      "cell_type": "code",
      "source": [
        "#10. Write code to demonstrate type casting with list elements.?\n",
        "\n",
        "str_list = ['1', '2', '3', '4', '5']\n",
        "\n",
        "int_list = []\n",
        "\n",
        "for item in str_list:\n",
        "    int_list.append(int(item))\n",
        "\n",
        "print(\"Original list (strings):\", str_list)\n",
        "print(\"Converted list (integers):\", int_list)\n",
        "\n"
      ],
      "metadata": {
        "id": "Tw5SU8gUM_HP",
        "colab": {
          "base_uri": "https://localhost:8080/"
        },
        "outputId": "bcc4690e-ec6d-4b47-e04e-a6c3b3f6c9a5"
      },
      "execution_count": null,
      "outputs": [
        {
          "output_type": "stream",
          "name": "stdout",
          "text": [
            "Original list (strings): ['1', '2', '3', '4', '5']\n",
            "Converted list (integers): [1, 2, 3, 4, 5]\n"
          ]
        }
      ]
    },
    {
      "cell_type": "code",
      "source": [
        "# 11. Write a program that checks if a number is positive, negative, or zero.?\n",
        "num = float(input(\"Enter a number: \"))\n",
        "\n",
        "if num > 0:\n",
        "    print(\"Positive\")\n",
        "elif num < 0:\n",
        "    print(\"Negative\")\n",
        "else:\n",
        "    print(\"Zero\")\n"
      ],
      "metadata": {
        "id": "d7hdV5fApI5_",
        "colab": {
          "base_uri": "https://localhost:8080/"
        },
        "outputId": "32ccfdbf-cf75-483f-ac7d-b6a1d51dc85d"
      },
      "execution_count": null,
      "outputs": [
        {
          "output_type": "stream",
          "name": "stdout",
          "text": [
            "Enter a number: 7\n",
            "Positive\n"
          ]
        }
      ]
    },
    {
      "cell_type": "code",
      "source": [
        "#12. Write a for loop to print numbers from 1 to 10.?\n",
        "for i in range(1, 11):\n",
        "    print(i)\n"
      ],
      "metadata": {
        "id": "CwoEQSi1qAy-",
        "colab": {
          "base_uri": "https://localhost:8080/"
        },
        "outputId": "4ccfc792-d44d-483b-f600-ad7d6084b4bc"
      },
      "execution_count": null,
      "outputs": [
        {
          "output_type": "stream",
          "name": "stdout",
          "text": [
            "1\n",
            "2\n",
            "3\n",
            "4\n",
            "5\n",
            "6\n",
            "7\n",
            "8\n",
            "9\n",
            "10\n"
          ]
        }
      ]
    },
    {
      "cell_type": "code",
      "source": [
        "# 13. Write a Python program to find the sum of all even numbers between 1 and 50.?\n",
        "total = 0\n",
        "\n",
        "for i in range(2, 51, 2):\n",
        "    total += i\n",
        "\n",
        "print(\"Sum of even numbers from 1 to 50 is:\", total)\n"
      ],
      "metadata": {
        "id": "v1tLnxT_qLVN",
        "colab": {
          "base_uri": "https://localhost:8080/"
        },
        "outputId": "d5f7709a-daf3-42a0-a212-3ef15fbc2691"
      },
      "execution_count": null,
      "outputs": [
        {
          "output_type": "stream",
          "name": "stdout",
          "text": [
            "Sum of even numbers from 1 to 50 is: 650\n"
          ]
        }
      ]
    },
    {
      "cell_type": "code",
      "source": [
        "# 14. Write a program to reverse a string using a while loop.?\n",
        "text = input(\"Enter a string: \")\n",
        "\n",
        "reversed_text = \"\"\n",
        "index = len(text) - 1\n",
        "\n",
        "# While loop to reverse the string\n",
        "while index >= 0:\n",
        "    reversed_text += text[index]\n",
        "    index -= 1\n",
        "\n",
        "print(\"Reversed string:\", reversed_text)\n"
      ],
      "metadata": {
        "id": "uIpktgynqlLX",
        "colab": {
          "base_uri": "https://localhost:8080/"
        },
        "outputId": "29713e8c-cfa7-4a84-983b-2c6abe101229"
      },
      "execution_count": null,
      "outputs": [
        {
          "output_type": "stream",
          "name": "stdout",
          "text": [
            "Enter a string: 15\n",
            "Reversed string: 51\n"
          ]
        }
      ]
    },
    {
      "cell_type": "code",
      "source": [
        "# 15. Write a Python program to calculate the factorial of a number provided by the user using a while loop.?\n",
        "\n",
        "num = int(input(\"Enter a number: \"))\n",
        "\n",
        "factorial = 1\n",
        "\n",
        "while num > 0:\n",
        "    factorial *= num\n",
        "    num -= 1\n",
        "\n",
        "print(\"Factorial is:\", factorial)\n"
      ],
      "metadata": {
        "id": "N67Wq5sXq-8S",
        "colab": {
          "base_uri": "https://localhost:8080/"
        },
        "outputId": "f6e53f09-b901-4add-a137-f1e8b167f7c3"
      },
      "execution_count": null,
      "outputs": [
        {
          "output_type": "stream",
          "name": "stdout",
          "text": [
            "Enter a number: 15\n",
            "Factorial is: 1307674368000\n"
          ]
        }
      ]
    }
  ]
}